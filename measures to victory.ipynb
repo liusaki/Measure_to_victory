{
 "cells": [
  {
   "cell_type": "markdown",
   "metadata": {},
   "source": [
    "二战期间,希特勒的战机铺天盖地伴随着啸叫向伦敦袭来,英国皇家空军400架战机紧急升空,誓死保卫祖国领土.\n",
    "\n",
    "空战的消耗如此之大,盟军若想取得胜利,必须采取措施加固飞机以保证战机的生存能力.400架战机轰炸行动结束后,针对弹孔的调查数据呈现在fly_data.xlsx文件中."
   ]
  },
  {
   "cell_type": "code",
   "execution_count": 1,
   "metadata": {},
   "outputs": [
    {
     "name": "stdout",
     "output_type": "stream",
     "text": [
      "<class 'pandas.core.frame.DataFrame'>\n",
      "RangeIndex: 400 entries, 0 to 399\n",
      "Data columns (total 6 columns):\n",
      "整体    359 non-null float64\n",
      "引擎    359 non-null float64\n",
      "燃油    359 non-null float64\n",
      "机身    359 non-null float64\n",
      "幸存    400 non-null int64\n",
      "种类    400 non-null object\n",
      "dtypes: float64(4), int64(1), object(1)\n",
      "memory usage: 18.8+ KB\n"
     ]
    }
   ],
   "source": [
    "import pandas as pd\n",
    "import matplotlib.pyplot as plt\n",
    "\n",
    "plane = pd.read_excel('fly_data.xlsx', sheet_name = 'Sheet1')\n",
    "plane.info()"
   ]
  },
  {
   "cell_type": "code",
   "execution_count": 2,
   "metadata": {},
   "outputs": [
    {
     "data": {
      "text/plain": [
       "359"
      ]
     },
     "execution_count": 2,
     "metadata": {},
     "output_type": "execute_result"
    }
   ],
   "source": [
    "plane = plane[plane['幸存'] == True]\n",
    "plane['幸存'].count()  # 幸存战机数"
   ]
  },
  {
   "cell_type": "code",
   "execution_count": 3,
   "metadata": {},
   "outputs": [],
   "source": [
    "'''\n",
    "幸存的飞机中分别统计引擎,燃油,机身上的弹孔数.\n",
    "'''\n",
    "engine_num = plane['引擎'].sum()\n",
    "fuel_num = plane['燃油'].sum()\n",
    "body_num = plane['机身'].sum()"
   ]
  },
  {
   "cell_type": "code",
   "execution_count": 4,
   "metadata": {},
   "outputs": [
    {
     "data": {
      "image/png": "[encoded data removed]",
      "text/plain": [
       "<Figure size 432x288 with 1 Axes>"
      ]
     },
     "metadata": {},
     "output_type": "display_data"
    }
   ],
   "source": [
    "# 画出饼图\n",
    "labels = ['engine', 'fuel', 'body']\n",
    "share = [engine_num, fuel_num, body_num]\n",
    "explode = [0, 0, 0]\n",
    "\n",
    "plt.pie(share, explode = explode,\n",
    "        labels = labels, autopct = '%.1f%%',\n",
    "        startangle = 180, shadow = True,\n",
    "        colors = ['b', 'r', 'y'])\n",
    "\n",
    "plt.title('Aircraft bullet hit', fontsize=24)\n",
    "plt.axis('equal')\n",
    "plt.show()"
   ]
  },
  {
   "cell_type": "markdown",
   "metadata": {},
   "source": [
    "幸存飞机中弹部位绝大多数都在机身上.引擎和燃油系统分布着极少数弹孔.\n",
    "\n",
    "飞机各部位中弹概率应该是相同的,显然幸存飞机中引擎和燃油系统被击中的次数微乎其微.说明多数在燃油和引擎系统中弹的飞机未能幸存.\n",
    "根据此项数据,此时盟军最应该加固引擎和燃油系统."
   ]
  }
 ],
 "metadata": {
  "kernelspec": {
   "display_name": "Python 3",
   "language": "python",
   "name": "python3"
  },
  "language_info": {
   "codemirror_mode": {
    "name": "ipython",
    "version": 3
   },
   "file_extension": ".py",
   "mimetype": "text/x-python",
   "name": "python",
   "nbconvert_exporter": "python",
   "pygments_lexer": "ipython3",
   "version": "3.7.3"
  }
 },
 "nbformat": 4,
 "nbformat_minor": 2
}
